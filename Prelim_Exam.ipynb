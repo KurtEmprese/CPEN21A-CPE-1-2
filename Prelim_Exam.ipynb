{
  "nbformat": 4,
  "nbformat_minor": 0,
  "metadata": {
    "colab": {
      "name": "Prelim Exam.ipynb",
      "provenance": [],
      "collapsed_sections": [],
      "authorship_tag": "ABX9TyNfRO+7aJKG2Xvglr1E+TKr",
      "include_colab_link": true
    },
    "kernelspec": {
      "name": "python3",
      "display_name": "Python 3"
    },
    "language_info": {
      "name": "python"
    }
  },
  "cells": [
    {
      "cell_type": "markdown",
      "metadata": {
        "id": "view-in-github",
        "colab_type": "text"
      },
      "source": [
        "<a href=\"https://colab.research.google.com/github/KurtEmprese/CPEN21A-CPE-1-2/blob/main/Prelim_Exam.ipynb\" target=\"_parent\"><img src=\"https://colab.research.google.com/assets/colab-badge.svg\" alt=\"Open In Colab\"/></a>"
      ]
    },
    {
      "cell_type": "code",
      "execution_count": 11,
      "metadata": {
        "colab": {
          "base_uri": "https://localhost:8080/"
        },
        "id": "EoMN9mPJVWah",
        "outputId": "d4e82f75-ecd7-4c97-f2d6-f0af84e6b45e"
      },
      "outputs": [
        {
          "output_type": "stream",
          "name": "stdout",
          "text": [
            "full name: Kurt Ashley S. Emprese \n",
            "student number: 202101034 \n",
            "age: 18 \n",
            "course: BSCpE \n",
            "School: Cavite State University\n"
          ]
        }
      ],
      "source": [
        "class Student:\n",
        "  def __init__(self, Name, Student_No, Age, Course, School):\n",
        "    self.Name = Name\n",
        "    self.Student_No = Student_No\n",
        "    self.Age = Age \n",
        "    self.Course = Course\n",
        "    self.School = School\n",
        "  \n",
        "  def Info(self):\n",
        "    print(f\"full name: {self.Name} \\nstudent number: {self.Student_No} \\nage: {self.Age} \\ncourse: {self.Course} \\nSchool: {self.School}\")\n",
        "\n",
        "Myself = Student(\"Kurt Ashley S. Emprese\", \"202101034\", 18, \"BSCpE\",\"Cavite State University\")\n",
        "\n",
        "Myself.Info()"
      ]
    }
  ]
}