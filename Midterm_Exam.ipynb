{
  "nbformat": 4,
  "nbformat_minor": 0,
  "metadata": {
    "colab": {
      "name": "Midterm Exam.ipynb",
      "provenance": [],
      "authorship_tag": "ABX9TyOP0NvGemHemx6PUvJVn5nN",
      "include_colab_link": true
    },
    "kernelspec": {
      "name": "python3",
      "display_name": "Python 3"
    },
    "language_info": {
      "name": "python"
    }
  },
  "cells": [
    {
      "cell_type": "markdown",
      "metadata": {
        "id": "view-in-github",
        "colab_type": "text"
      },
      "source": [
        "<a href=\"https://colab.research.google.com/github/KurtEmprese/CPEN21A-CPE-1-2/blob/main/Midterm_Exam.ipynb\" target=\"_parent\"><img src=\"https://colab.research.google.com/assets/colab-badge.svg\" alt=\"Open In Colab\"/></a>"
      ]
    },
    {
      "cell_type": "markdown",
      "metadata": {
        "id": "KqVRfyzLB4rN"
      },
      "source": [
        "###Midterm Exam"
      ]
    },
    {
      "cell_type": "code",
      "metadata": {
        "colab": {
          "base_uri": "https://localhost:8080/"
        },
        "id": "9lBtkFSoB01Q",
        "outputId": "6f8740de-fb14-4d12-d326-41da5a478ff6"
      },
      "source": [
        "name = \"Kurt Ashley S. Emprese\"\n",
        "SID = \"202101034\"\n",
        "age = \"18\"\n",
        "bday = \"06/21/2003\"\n",
        "add = \"Blk 42 Lt 1 CHRV Langkaan II Dasmarinas, Cavite\"\n",
        "crs = \"Bachelor of Science in Computer Engineering\"\n",
        "gwa = \"95\"\n",
        "\n",
        "print(\"Full name:\", name)\n",
        "print(\"Student Number:\", SID)\n",
        "print(\"Age:\", age)\n",
        "print(\"Birthday:\", bday)\n",
        "print(\"Address:\", add)\n",
        "print(\"Course:\", crs)\n",
        "print(\"Last Sem GWA:\", gwa)"
      ],
      "execution_count": 45,
      "outputs": [
        {
          "output_type": "stream",
          "name": "stdout",
          "text": [
            "Full name: Kurt Ashley S. Emprese\n",
            "Student Number: 202101034\n",
            "Age: 18\n",
            "Birthday: 06/21/2003\n",
            "Address: Blk 42 Lt 1 CHRV Langkaan II Dasmarinas, Cavite\n",
            "Course: Bachelor of Science in Computer Engineering\n",
            "Last Sem GWA: 95\n"
          ]
        }
      ]
    },
    {
      "cell_type": "code",
      "metadata": {
        "colab": {
          "base_uri": "https://localhost:8080/"
        },
        "id": "-7_vCh7QD8lP",
        "outputId": "5706c02f-44b9-4e89-eef0-379ebfe36eda"
      },
      "source": [
        "n = 4\n",
        "answ = \"Y\"\n",
        "\n",
        "print(2<n and n<6)\n",
        "print(2<n or n==6)\n",
        "print(not(2<n) or n==6)\n",
        "print(not(n<6))\n",
        "print(answ==\"Y\" or answ==\"y\")\n",
        "print(answ==\"Y\" and answ==\"y\")\n",
        "print(not(answ==\"y\"))\n",
        "print(((2<n) and (n==5+1)) or (answ==\"no\"))\n",
        "print(((n==2) and (n==7)) or (answ==\"Y\"))\n",
        "print((n==2) and ((n==7) or (answ==\"Y\")))"
      ],
      "execution_count": 46,
      "outputs": [
        {
          "output_type": "stream",
          "name": "stdout",
          "text": [
            "True\n",
            "True\n",
            "False\n",
            "False\n",
            "True\n",
            "False\n",
            "True\n",
            "False\n",
            "True\n",
            "False\n"
          ]
        }
      ]
    },
    {
      "cell_type": "code",
      "metadata": {
        "colab": {
          "base_uri": "https://localhost:8080/"
        },
        "id": "kYpR5FM8JFwq",
        "outputId": "c5dc7f9f-5d04-41d3-c6b0-b3e3e1861a7d"
      },
      "source": [
        "x = 2\n",
        "y = -3\n",
        "w = 7\n",
        "z = -10\n",
        "\n",
        "print(x/y)\n",
        "print(w/y/x)\n",
        "print(z/y%x)\n",
        "print(x%-y*w)\n",
        "print(x%y)\n",
        "print(z%w-y/x*5+5)\n",
        "print(9-x%(2+y))\n",
        "print(z//w)\n",
        "print((2+y)**2)\n",
        "print(w/x*2)"
      ],
      "execution_count": 47,
      "outputs": [
        {
          "output_type": "stream",
          "name": "stdout",
          "text": [
            "-0.6666666666666666\n",
            "-1.1666666666666667\n",
            "1.3333333333333335\n",
            "14\n",
            "-1\n",
            "16.5\n",
            "9\n",
            "-2\n",
            "1\n",
            "7.0\n"
          ]
        }
      ]
    }
  ]
}