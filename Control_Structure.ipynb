{
  "nbformat": 4,
  "nbformat_minor": 0,
  "metadata": {
    "colab": {
      "name": "Control Structure.ipynb",
      "provenance": [],
      "authorship_tag": "ABX9TyMO81/M1ahhvIGayBcrSAcU",
      "include_colab_link": true
    },
    "kernelspec": {
      "name": "python3",
      "display_name": "Python 3"
    },
    "language_info": {
      "name": "python"
    }
  },
  "cells": [
    {
      "cell_type": "markdown",
      "metadata": {
        "id": "view-in-github",
        "colab_type": "text"
      },
      "source": [
        "<a href=\"https://colab.research.google.com/github/KurtEmprese/CPEN21A-CPE-1-2/blob/main/Control_Structure.ipynb\" target=\"_parent\"><img src=\"https://colab.research.google.com/assets/colab-badge.svg\" alt=\"Open In Colab\"/></a>"
      ]
    },
    {
      "cell_type": "markdown",
      "metadata": {
        "id": "8JT0CpV6H2RR"
      },
      "source": [
        "##If Statement"
      ]
    },
    {
      "cell_type": "code",
      "metadata": {
        "colab": {
          "base_uri": "https://localhost:8080/"
        },
        "id": "kNIivoaLHXFa",
        "outputId": "f8411e9c-6708-4d52-d632-c33c0ef83119"
      },
      "source": [
        "a = 12\n",
        "b = 100\n",
        "\n",
        "if b > a:\n",
        "  print(\"b is greater than a\")"
      ],
      "execution_count": 1,
      "outputs": [
        {
          "output_type": "stream",
          "name": "stdout",
          "text": [
            "b is greater than a\n"
          ]
        }
      ]
    },
    {
      "cell_type": "markdown",
      "metadata": {
        "id": "Ta62cxeKITQQ"
      },
      "source": [
        "##Elif Statement"
      ]
    },
    {
      "cell_type": "code",
      "metadata": {
        "colab": {
          "base_uri": "https://localhost:8080/"
        },
        "id": "TVKaZHAxIWlL",
        "outputId": "642928b5-5efd-4f53-a859-42e369d3b0e7"
      },
      "source": [
        "a = 120\n",
        "b = 100\n",
        "\n",
        "if b > a:\n",
        "  print(\"b is greater than a\")\n",
        "elif a > b:\n",
        "  print(\"a is greater than b\")"
      ],
      "execution_count": 3,
      "outputs": [
        {
          "output_type": "stream",
          "name": "stdout",
          "text": [
            "a is greater than b\n"
          ]
        }
      ]
    },
    {
      "cell_type": "markdown",
      "metadata": {
        "id": "7sLv9BGKIxFk"
      },
      "source": [
        "##Else Statement"
      ]
    },
    {
      "cell_type": "code",
      "metadata": {
        "colab": {
          "base_uri": "https://localhost:8080/"
        },
        "id": "cqHzxASjIzfD",
        "outputId": "4133bd94-77c9-4f70-b767-96def59baed9"
      },
      "source": [
        "a = 100\n",
        "b = 100\n",
        "\n",
        "if b > a:\n",
        "  print(\"b is greater than a\")\n",
        "elif a > b:\n",
        "  print(\"a is greater than b\")\n",
        "else:\n",
        "  print(\"a is equal to b\")"
      ],
      "execution_count": 5,
      "outputs": [
        {
          "output_type": "stream",
          "name": "stdout",
          "text": [
            "a is equal to b\n"
          ]
        }
      ]
    },
    {
      "cell_type": "markdown",
      "metadata": {
        "id": "YvJU-encJvbR"
      },
      "source": [
        "##Short Hand If Statement"
      ]
    },
    {
      "cell_type": "code",
      "metadata": {
        "colab": {
          "base_uri": "https://localhost:8080/"
        },
        "id": "DWHqQmQcJy7d",
        "outputId": "c121d6a5-b80a-4719-93e0-a4a4911a9325"
      },
      "source": [
        "a = 45\n",
        "b = 30\n",
        "\n",
        "if a > b: print(\"a is greater than b\")"
      ],
      "execution_count": 6,
      "outputs": [
        {
          "output_type": "stream",
          "name": "stdout",
          "text": [
            "a is greater than b\n"
          ]
        }
      ]
    },
    {
      "cell_type": "markdown",
      "metadata": {
        "id": "Bv66LHEaKB3f"
      },
      "source": [
        "##Short Hand Else Statement"
      ]
    },
    {
      "cell_type": "code",
      "metadata": {
        "colab": {
          "base_uri": "https://localhost:8080/"
        },
        "id": "pgUwTbYxKI5J",
        "outputId": "61f494a1-1d46-4b51-e66a-a01fa792a50f"
      },
      "source": [
        "a = 45\n",
        "b = 30\n",
        "\n",
        "print(\"a is greater than b\") if a > b else print(\"b is greater than a\")"
      ],
      "execution_count": 9,
      "outputs": [
        {
          "output_type": "stream",
          "name": "stdout",
          "text": [
            "a is greater than b\n"
          ]
        }
      ]
    },
    {
      "cell_type": "markdown",
      "metadata": {
        "id": "yT8OWpgoKuDa"
      },
      "source": [
        "##And logic condition"
      ]
    },
    {
      "cell_type": "code",
      "metadata": {
        "colab": {
          "base_uri": "https://localhost:8080/"
        },
        "id": "eKrCHxNKK02W",
        "outputId": "c085a0d1-a5d3-4f7c-aecf-fed93995aeca"
      },
      "source": [
        "x = 7\n",
        "\n",
        "if x > 5 and x > 6:\n",
        "  print(\"Both conditions are True\")"
      ],
      "execution_count": 12,
      "outputs": [
        {
          "output_type": "stream",
          "name": "stdout",
          "text": [
            "Both conditions are True\n"
          ]
        }
      ]
    },
    {
      "cell_type": "markdown",
      "metadata": {
        "id": "RbjREqhxLY2Z"
      },
      "source": [
        "Or logic condition"
      ]
    },
    {
      "cell_type": "code",
      "metadata": {
        "colab": {
          "base_uri": "https://localhost:8080/"
        },
        "id": "g3n22jXCLbqi",
        "outputId": "e13371b8-0fd8-4bf6-f001-d6ee421062a7"
      },
      "source": [
        "x = 21\n",
        "\n",
        "if x > 18 or x < 15:\n",
        "  print(\"True\")\n",
        "else:\n",
        "  print(\"False\")"
      ],
      "execution_count": 18,
      "outputs": [
        {
          "output_type": "stream",
          "name": "stdout",
          "text": [
            "True\n"
          ]
        }
      ]
    },
    {
      "cell_type": "code",
      "metadata": {
        "colab": {
          "base_uri": "https://localhost:8080/"
        },
        "id": "EP3HzSJoMDeW",
        "outputId": "4c1e0851-1d66-42d0-95bd-ab6a85aa5b72"
      },
      "source": [
        "if x > 10:\n",
        "  print(\"Above 10\")\n",
        "  if x > 20:\n",
        "    print(\"Above 20\")\n",
        "  else:\n",
        "    print(\"below 20\")\n",
        "else:\n",
        "  print(\"less than 10\")"
      ],
      "execution_count": 19,
      "outputs": [
        {
          "output_type": "stream",
          "name": "stdout",
          "text": [
            "Above 10\n",
            "Above 20\n"
          ]
        }
      ]
    },
    {
      "cell_type": "markdown",
      "metadata": {
        "id": "vTOqKHU8M8X8"
      },
      "source": [
        "##Example 1"
      ]
    },
    {
      "cell_type": "code",
      "metadata": {
        "colab": {
          "base_uri": "https://localhost:8080/"
        },
        "id": "mhGSBS58Myak",
        "outputId": "49c500f3-2f0f-42f3-cc58-5c1f9bde27b9"
      },
      "source": [
        "age = int(input(\"Enter your age:\"))\n",
        "\n",
        "if age >= 18:\n",
        "  print(\"You are qualified to vote\")\n",
        "else:\n",
        "  print(\"You aren't qualified to vote\")"
      ],
      "execution_count": 48,
      "outputs": [
        {
          "output_type": "stream",
          "name": "stdout",
          "text": [
            "Enter your age:18\n",
            "You are qualified to vote\n"
          ]
        }
      ]
    },
    {
      "cell_type": "markdown",
      "metadata": {
        "id": "EL1oVPHyNkB-"
      },
      "source": [
        "##Example 2"
      ]
    },
    {
      "cell_type": "code",
      "metadata": {
        "colab": {
          "base_uri": "https://localhost:8080/"
        },
        "id": "5MOxEjQWN8ki",
        "outputId": "79f93433-2a09-4a00-8fa6-162c80a7ec2f"
      },
      "source": [
        "num = float(input(\"Enter the number:\"))\n",
        "\n",
        "if num == 0:\n",
        "  print(\"Zero\")\n",
        "elif num > 0:\n",
        "  print(\"Positive\")\n",
        "else:\n",
        "  print(\"Negative\")"
      ],
      "execution_count": 32,
      "outputs": [
        {
          "output_type": "stream",
          "name": "stdout",
          "text": [
            "Enter the number:21\n",
            "Positive\n"
          ]
        }
      ]
    },
    {
      "cell_type": "markdown",
      "metadata": {
        "id": "VmTFiw1fOpfY"
      },
      "source": [
        "##Example 3"
      ]
    },
    {
      "cell_type": "code",
      "metadata": {
        "colab": {
          "base_uri": "https://localhost:8080/"
        },
        "id": "BRY9s_6rOrS3",
        "outputId": "ca944bc8-f3f4-4ecb-e7fb-466f23e74e93"
      },
      "source": [
        "grd = float(input(\"Enter your grade:\"))\n",
        "\n",
        "if grd >= 75:\n",
        "  print(\"Passed\")\n",
        "elif grd >= 74:\n",
        "  print(\"Remedial\")\n",
        "else:\n",
        "  print(\"Failed\")"
      ],
      "execution_count": 55,
      "outputs": [
        {
          "output_type": "stream",
          "name": "stdout",
          "text": [
            "Enter your grade:74.99\n",
            "Remedial\n"
          ]
        }
      ]
    }
  ]
}