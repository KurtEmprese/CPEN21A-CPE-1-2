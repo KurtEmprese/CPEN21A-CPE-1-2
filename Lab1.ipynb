{
  "nbformat": 4,
  "nbformat_minor": 0,
  "metadata": {
    "colab": {
      "name": "Lab1.ipynb",
      "provenance": [],
      "authorship_tag": "ABX9TyOzObz20QfvV2jLn/y5Eyhi",
      "include_colab_link": true
    },
    "kernelspec": {
      "name": "python3",
      "display_name": "Python 3"
    },
    "language_info": {
      "name": "python"
    }
  },
  "cells": [
    {
      "cell_type": "markdown",
      "metadata": {
        "id": "view-in-github",
        "colab_type": "text"
      },
      "source": [
        "<a href=\"https://colab.research.google.com/github/KurtEmprese/CPEN21A-CPE-1-2/blob/main/Lab1.ipynb\" target=\"_parent\"><img src=\"https://colab.research.google.com/assets/colab-badge.svg\" alt=\"Open In Colab\"/></a>"
      ]
    },
    {
      "cell_type": "markdown",
      "metadata": {
        "id": "QhJZIgKC1pWv"
      },
      "source": [
        ""
      ]
    },
    {
      "cell_type": "markdown",
      "metadata": {
        "id": "kpB8Fsx41rJA"
      },
      "source": [
        "###Laboratory 1"
      ]
    },
    {
      "cell_type": "code",
      "metadata": {
        "colab": {
          "base_uri": "https://localhost:8080/"
        },
        "id": "O9b5Dfuu14Kx",
        "outputId": "ccbffc15-8932-4268-9404-df7e70404d2d"
      },
      "source": [
        "print(\"Welcome to Python Programming\")"
      ],
      "execution_count": 1,
      "outputs": [
        {
          "output_type": "stream",
          "name": "stdout",
          "text": [
            "Welcome to Python Programming\n"
          ]
        }
      ]
    },
    {
      "cell_type": "code",
      "metadata": {
        "colab": {
          "base_uri": "https://localhost:8080/"
        },
        "id": "tbuvrgHC2Dx0",
        "outputId": "3f217090-3431-445e-c8a7-cdf29f0c2161"
      },
      "source": [
        "name = \"Kurt Ashley S. Emprese\"\n",
        "address = \"Blk 42 lt 1 CHRV Langkaan II Dasmariñas, Cavite\"\n",
        "age = \"18\"\n",
        "\n",
        "print(\"Hello, my name is\", name, \"and I'm\", age, \"years old.\", \"I live in\", address)\n",
        "print(\"name:\", name, \"\\naddress:\", address, \"\\nAge:\", age)"
      ],
      "execution_count": 10,
      "outputs": [
        {
          "output_type": "stream",
          "name": "stdout",
          "text": [
            "Hello, my name is Kurt Ashley S. Emprese and I'm 18 years old. I live in Blk 42 lt 1 CHRV Langkaan II Dasmariñas, Cavite\n",
            "name: Kurt Ashley S. Emprese \n",
            "address: Blk 42 lt 1 CHRV Langkaan II Dasmariñas, Cavite \n",
            "Age: 18\n"
          ]
        }
      ]
    }
  ]
}