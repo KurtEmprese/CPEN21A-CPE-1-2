{
  "nbformat": 4,
  "nbformat_minor": 0,
  "metadata": {
    "colab": {
      "name": "Emprese_Introduction.ipynb",
      "provenance": [],
      "authorship_tag": "ABX9TyNvKnPT2qmzENPpoeAI7Wq1",
      "include_colab_link": true
    },
    "kernelspec": {
      "name": "python3",
      "display_name": "Python 3"
    },
    "language_info": {
      "name": "python"
    }
  },
  "cells": [
    {
      "cell_type": "markdown",
      "metadata": {
        "id": "view-in-github",
        "colab_type": "text"
      },
      "source": [
        "<a href=\"https://colab.research.google.com/github/KurtEmprese/CPEN21A-CPE-1-2/blob/main/Emprese_Introduction.ipynb\" target=\"_parent\"><img src=\"https://colab.research.google.com/assets/colab-badge.svg\" alt=\"Open In Colab\"/></a>"
      ]
    },
    {
      "cell_type": "markdown",
      "metadata": {
        "id": "i331xGOKEtcB"
      },
      "source": [
        "##Introduction to Python\n",
        "###Indentation"
      ]
    },
    {
      "cell_type": "code",
      "metadata": {
        "colab": {
          "base_uri": "https://localhost:8080/"
        },
        "id": "_gw6gHPtFcRC",
        "outputId": "460547ed-b7e7-4a0b-ec25-023d715c5fe5"
      },
      "source": [
        "if 5 > 3:\n",
        "  print(\"Five is greater than three\")"
      ],
      "execution_count": 2,
      "outputs": [
        {
          "output_type": "stream",
          "name": "stdout",
          "text": [
            "Five is greater than two\n"
          ]
        }
      ]
    },
    {
      "cell_type": "markdown",
      "metadata": {
        "id": "v4dpRf9IFwau"
      },
      "source": [
        "###Comments"
      ]
    },
    {
      "cell_type": "code",
      "metadata": {
        "id": "0iR0aVAAF6O-"
      },
      "source": [
        "#This is a comment\n",
        "#this is also a comment"
      ],
      "execution_count": 3,
      "outputs": []
    },
    {
      "cell_type": "markdown",
      "metadata": {
        "id": "5snsGYj6GeWf"
      },
      "source": [
        "###Naming variables"
      ]
    },
    {
      "cell_type": "code",
      "metadata": {
        "colab": {
          "base_uri": "https://localhost:8080/"
        },
        "id": "kMIp3OAqHVuA",
        "outputId": "ba95512a-c7c8-4c63-ae3b-b23a535a14d9"
      },
      "source": [
        "age = 18\n",
        "name = \"kurt\"\n",
        "a, b, c = 1, 2, 3\n",
        "print(age)\n",
        "print(name)\n",
        "print(a, b, c)"
      ],
      "execution_count": 6,
      "outputs": [
        {
          "output_type": "stream",
          "name": "stdout",
          "text": [
            "18\n",
            "kurt\n",
            "1 2 3\n"
          ]
        }
      ]
    },
    {
      "cell_type": "markdown",
      "metadata": {
        "id": "mxOKHYQGHpBW"
      },
      "source": [
        "###Casting and type() functions"
      ]
    },
    {
      "cell_type": "code",
      "metadata": {
        "colab": {
          "base_uri": "https://localhost:8080/"
        },
        "id": "zpuwnbAUISxi",
        "outputId": "0c16f1bf-d969-4949-c1ea-7b68dc088a99"
      },
      "source": [
        "a = int(3.0312323) #This is casting\n",
        "print(a)\n",
        "print(type(a))     #This is type() functions\n",
        "asd = type(\"bruh\")\n",
        "print(asd)\n"
      ],
      "execution_count": 12,
      "outputs": [
        {
          "output_type": "stream",
          "name": "stdout",
          "text": [
            "3\n",
            "<class 'int'>\n",
            "<class 'str'>\n"
          ]
        }
      ]
    },
    {
      "cell_type": "markdown",
      "metadata": {
        "id": "VC-6v8R5JXS0"
      },
      "source": [
        "###Case sensitive"
      ]
    },
    {
      "cell_type": "code",
      "metadata": {
        "colab": {
          "base_uri": "https://localhost:8080/"
        },
        "id": "HLXoTWpOJc1C",
        "outputId": "921e6117-43d8-4b97-e749-c524b20bbc4e"
      },
      "source": [
        "bruh = 123\n",
        "BRUH = 321\n",
        "print(bruh, BRUH)\n",
        "#bruh and BRUH are different variables"
      ],
      "execution_count": 14,
      "outputs": [
        {
          "output_type": "stream",
          "name": "stdout",
          "text": [
            "123 321\n"
          ]
        }
      ]
    },
    {
      "cell_type": "markdown",
      "metadata": {
        "id": "b9R0hGFkKvwn"
      },
      "source": [
        "###Multiple variable"
      ]
    },
    {
      "cell_type": "code",
      "metadata": {
        "colab": {
          "base_uri": "https://localhost:8080/"
        },
        "id": "WlGXvD-KMS0V",
        "outputId": "f93157a9-7a0b-4803-cc47-03a91ebd0945"
      },
      "source": [
        "a, b, c = 1, 2, 3\n",
        "print(a,b,c)"
      ],
      "execution_count": 15,
      "outputs": [
        {
          "output_type": "stream",
          "name": "stdout",
          "text": [
            "1 2 3\n"
          ]
        }
      ]
    },
    {
      "cell_type": "markdown",
      "metadata": {
        "id": "H_12ts9WMyoo"
      },
      "source": [
        "###One value to multiple variables"
      ]
    },
    {
      "cell_type": "code",
      "metadata": {
        "colab": {
          "base_uri": "https://localhost:8080/"
        },
        "id": "2quhifaBM9El",
        "outputId": "7390d91e-69b5-4c4c-9b53-9b7b9d4401ad"
      },
      "source": [
        "a = v = s = 12314141\n",
        "print(a,v,s)"
      ],
      "execution_count": 16,
      "outputs": [
        {
          "output_type": "stream",
          "name": "stdout",
          "text": [
            "12314141 12314141 12314141\n"
          ]
        }
      ]
    },
    {
      "cell_type": "markdown",
      "metadata": {
        "id": "9yOF8OZ5NGYi"
      },
      "source": [
        "###Output variables"
      ]
    },
    {
      "cell_type": "code",
      "metadata": {
        "colab": {
          "base_uri": "https://localhost:8080/"
        },
        "id": "LSMSkHxrNUqZ",
        "outputId": "a9e7a9e3-07d2-499b-bddb-2600cdc2e182"
      },
      "source": [
        "name = \"kurt\"\n",
        "print(\"my name is\", name)"
      ],
      "execution_count": 18,
      "outputs": [
        {
          "output_type": "stream",
          "name": "stdout",
          "text": [
            "my name is kurt\n"
          ]
        }
      ]
    },
    {
      "cell_type": "markdown",
      "metadata": {
        "id": "l8knFEu8NpxZ"
      },
      "source": [
        "###Arithmetic Operations"
      ]
    },
    {
      "cell_type": "code",
      "metadata": {
        "colab": {
          "base_uri": "https://localhost:8080/"
        },
        "id": "EK8_4zgwNzCI",
        "outputId": "16234a59-9bcf-4a4f-8952-a1e44881d949"
      },
      "source": [
        "a = 13\n",
        "b = 6\n",
        "print(a % b)"
      ],
      "execution_count": 27,
      "outputs": [
        {
          "output_type": "stream",
          "name": "stdout",
          "text": [
            "1\n"
          ]
        }
      ]
    },
    {
      "cell_type": "markdown",
      "metadata": {
        "id": "pBIJOJBGOZuA"
      },
      "source": [
        "###Assignment Operators"
      ]
    },
    {
      "cell_type": "code",
      "metadata": {
        "colab": {
          "base_uri": "https://localhost:8080/"
        },
        "id": "EJnUfXjYPWvs",
        "outputId": "0776bef3-a160-4d24-e71b-3ab462ae6211"
      },
      "source": [
        "g = 1\n",
        "g +=1\n",
        "print(g)"
      ],
      "execution_count": 53,
      "outputs": [
        {
          "output_type": "stream",
          "name": "stdout",
          "text": [
            "2\n"
          ]
        }
      ]
    },
    {
      "cell_type": "markdown",
      "metadata": {
        "id": "pcRsI0AfRI_N"
      },
      "source": [
        "###Comparison Operators"
      ]
    },
    {
      "cell_type": "code",
      "metadata": {
        "colab": {
          "base_uri": "https://localhost:8080/"
        },
        "id": "mUdgK_DXRMQ5",
        "outputId": "273c4af1-15ee-445b-ae9e-bd001b3aeecd"
      },
      "source": [
        "print(g==g)"
      ],
      "execution_count": 55,
      "outputs": [
        {
          "output_type": "stream",
          "name": "stdout",
          "text": [
            "True\n"
          ]
        }
      ]
    },
    {
      "cell_type": "markdown",
      "metadata": {
        "id": "AVIRTXiSRUcp"
      },
      "source": [
        "###Logical Operators"
      ]
    },
    {
      "cell_type": "code",
      "metadata": {
        "colab": {
          "base_uri": "https://localhost:8080/"
        },
        "id": "q7dDQKjWRXh4",
        "outputId": "735133e0-8580-4bad-ace1-9315dc993e00"
      },
      "source": [
        "print(not(a==b and b>a))"
      ],
      "execution_count": 59,
      "outputs": [
        {
          "output_type": "stream",
          "name": "stdout",
          "text": [
            "True\n"
          ]
        }
      ]
    },
    {
      "cell_type": "markdown",
      "metadata": {
        "id": "WSYq3R8aR-JY"
      },
      "source": [
        "###Identity Operators"
      ]
    },
    {
      "cell_type": "code",
      "metadata": {
        "colab": {
          "base_uri": "https://localhost:8080/"
        },
        "id": "W9wJ0dNgSDPD",
        "outputId": "6da27df8-374c-4240-c70e-37ff0ef682c8"
      },
      "source": [
        "t = 123\n",
        "y = 123\n",
        "print(t is y)"
      ],
      "execution_count": 60,
      "outputs": [
        {
          "output_type": "stream",
          "name": "stdout",
          "text": [
            "True\n"
          ]
        }
      ]
    }
  ]
}