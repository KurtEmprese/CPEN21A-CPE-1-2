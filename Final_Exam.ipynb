{
  "nbformat": 4,
  "nbformat_minor": 0,
  "metadata": {
    "colab": {
      "name": "Final Exam.ipynb",
      "provenance": [],
      "authorship_tag": "ABX9TyPkUsmXDqGZCncbq8UvYSMu",
      "include_colab_link": true
    },
    "kernelspec": {
      "name": "python3",
      "display_name": "Python 3"
    },
    "language_info": {
      "name": "python"
    }
  },
  "cells": [
    {
      "cell_type": "markdown",
      "metadata": {
        "id": "view-in-github",
        "colab_type": "text"
      },
      "source": [
        "<a href=\"https://colab.research.google.com/github/KurtEmprese/CPEN21A-CPE-1-2/blob/main/Final_Exam.ipynb\" target=\"_parent\"><img src=\"https://colab.research.google.com/assets/colab-badge.svg\" alt=\"Open In Colab\"/></a>"
      ]
    },
    {
      "cell_type": "markdown",
      "source": [
        "###Final Exam"
      ],
      "metadata": {
        "id": "6VvUgA4BnGyM"
      }
    },
    {
      "cell_type": "markdown",
      "source": [
        "Problem Statement 1"
      ],
      "metadata": {
        "id": "QHxGuMiNnK6O"
      }
    },
    {
      "cell_type": "code",
      "execution_count": 130,
      "metadata": {
        "colab": {
          "base_uri": "https://localhost:8080/"
        },
        "id": "7XGZawUVe7KI",
        "outputId": "1ae0e4f8-d39a-4057-d537-97b551c73775"
      },
      "outputs": [
        {
          "output_type": "stream",
          "name": "stdout",
          "text": [
            "[-5, -4, -3, -2, -1, 0, 1, 2, 3]\n",
            "[-5, -4, -3, -2, -1, 0, 1, 2, 3]\n",
            "[-5, -4, -3, -2, -1, 0, 1, 2, 3]\n",
            "[-5, -4, -3, -2, -1, 0, 1, 2, 3]\n",
            "[-5, -4, -3, -2, -1, 0, 1, 2, 3]\n",
            "[-5, -4, -3, -2, -1, 0, 1, 2, 3]\n",
            "[-5, -4, -3, -2, -1, 0, 1, 2, 3]\n",
            "[-5, -4, -3, -2, -1, 0, 1, 2, 3]\n",
            "[-5, -4, -3, -2, -1, 0, 1, 2, 3]\n",
            "[-5, -4, -3, -2, -1, 0, 1, 2, 3]\n"
          ]
        }
      ],
      "source": [
        "a = [-5, -4, -3, -2, -1, 0, 1, 2, 3, 4]\n",
        "\n",
        "for x in a:\n",
        "  print(a[0:9])\n"
      ]
    },
    {
      "cell_type": "markdown",
      "source": [
        "Problem Statement 2"
      ],
      "metadata": {
        "id": "8GfqZEH7sTIH"
      }
    },
    {
      "cell_type": "code",
      "source": [
        "num = 1\n",
        "while num <= 5:\n",
        "    x = int(input())\n",
        "    if num == 1:\n",
        "        a = x\n",
        "    if num == 5:\n",
        "        b = x\n",
        "    num += 1\n",
        "\n",
        "print(a+b)"
      ],
      "metadata": {
        "colab": {
          "base_uri": "https://localhost:8080/"
        },
        "id": "eUSvNazEsUtc",
        "outputId": "fadf3b3e-ca74-4f2d-f456-66c77e162920"
      },
      "execution_count": 143,
      "outputs": [
        {
          "output_type": "stream",
          "name": "stdout",
          "text": [
            "1\n",
            "2\n",
            "3\n",
            "4\n",
            "5\n",
            "6\n"
          ]
        }
      ]
    },
    {
      "cell_type": "markdown",
      "source": [
        "Problem Statement 3"
      ],
      "metadata": {
        "id": "6_YOYq6Rscgt"
      }
    },
    {
      "cell_type": "code",
      "source": [
        "grd = int(input(\"Enter your grade here: \"))\n",
        "\n",
        "if grd >= 60:\n",
        "  if grd >= 60 and grd <= 69:\n",
        "    print(\"D\")\n",
        "  elif grd >= 70 and grd <= 79:\n",
        "    print(\"C\")\n",
        "  elif grd >= 80 and grd <= 89:\n",
        "    print(\"B\")\n",
        "  else:\n",
        "    print(\"A\")\n",
        "else:\n",
        "  print(\"F\")"
      ],
      "metadata": {
        "colab": {
          "base_uri": "https://localhost:8080/"
        },
        "id": "XKBWl9rgGPsp",
        "outputId": "b0bb432e-3cb7-4539-ccd5-4df6c8531262"
      },
      "execution_count": 119,
      "outputs": [
        {
          "output_type": "stream",
          "name": "stdout",
          "text": [
            "Enter your grade here: 95\n",
            "A\n"
          ]
        }
      ]
    }
  ]
}